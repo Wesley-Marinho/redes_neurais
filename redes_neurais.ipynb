{
  "nbformat": 4,
  "nbformat_minor": 0,
  "metadata": {
    "colab": {
      "provenance": []
    },
    "kernelspec": {
      "name": "python3",
      "display_name": "Python 3"
    },
    "language_info": {
      "name": "python"
    }
  },
  "cells": [
    {
      "cell_type": "markdown",
      "source": [
        "#Importar Bibliotecas"
      ],
      "metadata": {
        "id": "fNyG799VRIDs"
      }
    },
    {
      "cell_type": "code",
      "execution_count": null,
      "metadata": {
        "id": "n1VcDw_GIt8q"
      },
      "outputs": [],
      "source": [
        "#importações necessárias\n",
        "#dá suporte para trabalhar com arrays e matrizes numéricas\n",
        "import numpy as np\n",
        "#fornece conjuntos de dados para treinamento e teste do modelo\n",
        "from sklearn import datasets\n",
        "#vai dividir os dados em conjuntos para avaliar o desempenho do modelo\n",
        "from sklearn.model_selection import train_test_split\n",
        "#fornece uma interface para construção e treinamento para o modelo\n",
        "from keras import models\n",
        "#diferentes tipos de camadas de redes neurais\n",
        "from keras import layers\n",
        "#transformar variáveis categóricas em representações numéricas adequadas\n",
        "from keras.utils import to_categorical\n",
        "#defini um modelo de rede neural sequencialmente\n",
        "from tensorflow.keras.models import Sequential\n",
        "#representa uma camada densa \n",
        "from tensorflow.keras.layers import Dense\n",
        "#representa uma camada de (LSTM)\n",
        "from tensorflow.keras.layers import LSTM\n",
        "#camada de Dropout, usada para regularização\n",
        "from tensorflow.keras.layers import Dropout\n",
        "#ferramentas de análise de dados\n",
        "import pandas as pd"
      ]
    },
    {
      "cell_type": "markdown",
      "source": [
        "##Baixando dados"
      ],
      "metadata": {
        "id": "slBKXFXjTJXJ"
      }
    },
    {
      "cell_type": "code",
      "source": [
        "csv_url = 'https://archive.ics.uci.edu/ml/machine-learning-databases/iris/iris.data'\n",
        "# usando os as informações dos atributos como nome das colunas\n",
        "col_names = ['Sepal_Length','Sepal_Width','Petal_Length','Petal_Width','Class']\n",
        "#criando dataframe usando os dados recebidos da url e col_names\n",
        "iris =  pd.read_csv(csv_url, names = col_names)\n"
      ],
      "metadata": {
        "id": "ab26YzEcRsci"
      },
      "execution_count": null,
      "outputs": []
    },
    {
      "cell_type": "markdown",
      "source": [
        "##Checando os dados"
      ],
      "metadata": {
        "id": "lYWZfqDETbJh"
      }
    },
    {
      "cell_type": "code",
      "source": [
        "#checando os 10 primeiros dados da tabela\n",
        "iris.head(10)"
      ],
      "metadata": {
        "id": "nKCKIHvqSlHe"
      },
      "execution_count": null,
      "outputs": []
    },
    {
      "cell_type": "markdown",
      "source": [
        "##Criar conjunto de treinamento e de testes"
      ],
      "metadata": {
        "id": "Z_odAX-_UKkX"
      }
    },
    {
      "cell_type": "code",
      "source": [
        "#definindo os tipos de dados de entrada\n",
        "#o sub-dataframe x vai receber \"Sepal_Length\" até \"Petal_Width\"\n",
        "X = iris.loc[:,'Sepal_Length':'Petal_Width']\n",
        "#o sub-dataframe y vai receber o rótulo do conjunto de dados\n",
        "y = iris['Class']"
      ],
      "metadata": {
        "id": "Btgq7zoMQWSU"
      },
      "execution_count": null,
      "outputs": []
    },
    {
      "cell_type": "code",
      "source": [
        "#checando os tipos únicos de dados armazenados\n",
        "pd.unique(y)"
      ],
      "metadata": {
        "id": "9RloOexcUmjl"
      },
      "execution_count": null,
      "outputs": []
    },
    {
      "cell_type": "code",
      "source": [
        "#traduzindo os nomes das flores para valores numéricos\n",
        "y[y=='Iris-setosa']=0\n",
        "y[y=='Iris-versicolor']=1\n",
        "y[y=='Iris-virginica']=2\n",
        "pd.unique(y)"
      ],
      "metadata": {
        "id": "IuX6i1aMUbcZ"
      },
      "execution_count": null,
      "outputs": []
    },
    {
      "cell_type": "markdown",
      "source": [
        "##Treinamento"
      ],
      "metadata": {
        "id": "3BbdYHEcesij"
      }
    },
    {
      "cell_type": "code",
      "source": [
        "#iniciando treino\n",
        "#realiza a divisão dos conjuntos de treinamento e teste do conjunto de dados X e y utilizando a função train_test_split \n",
        "X_train, X_test, y_train, y_test = train_test_split(X, y, test_size=0.3, stratify=y, random_state=42)"
      ],
      "metadata": {
        "id": "P7STljRgUaRp"
      },
      "execution_count": null,
      "outputs": []
    },
    {
      "cell_type": "code",
      "source": [
        "#codificação one-hot dos rótulos de treinamento (y_train) e teste (y_test)\n",
        "train_labels = to_categorical(y_train)\n",
        "test_labels = to_categorical(y_test)"
      ],
      "metadata": {
        "id": "ZfqgNUAlVe9t"
      },
      "execution_count": 39,
      "outputs": []
    },
    {
      "cell_type": "code",
      "source": [
        "#imprimindo classes correspondentes dos dados de teste\n",
        "test_labels"
      ],
      "metadata": {
        "id": "-eG2hNBbWhal"
      },
      "execution_count": null,
      "outputs": []
    },
    {
      "cell_type": "markdown",
      "source": [
        "##Compilação de modelo"
      ],
      "metadata": {
        "id": "g-mqnSa9e-mV"
      }
    },
    {
      "cell_type": "code",
      "source": [
        "model = Sequential()\n",
        "#camada que possui 512 neurônios, função de ativação ReLU e um vetor de 4 dimensões\n",
        "model.add(layers.Dense(512, activation='relu', input_shape=(4,)))\n",
        "#camada de saída que possui 3 neurônios e função de ativação softmax\n",
        "model.add(layers.Dense(3, activation='softmax'))\n",
        "# Compilando o modelo usando \"adam\" como otimizador, \n",
        "# \"categorical_crossentropy\" como função de perda\n",
        "# e \"accuracy\" como métrica\n",
        "model.compile(optimizer='adam',\n",
        "                loss='categorical_crossentropy',\n",
        "                metrics=['accuracy'])"
      ],
      "metadata": {
        "id": "7yVJ9Tw-Qmss"
      },
      "execution_count": null,
      "outputs": []
    },
    {
      "cell_type": "markdown",
      "source": [
        "##Testes"
      ],
      "metadata": {
        "id": "uLzwUchyfF0H"
      }
    },
    {
      "cell_type": "code",
      "source": [
        "#usando dados de treinamento X_train, os rótulos de treinamento train_labels \n",
        "#e ajustar os pesos em 40 épocas e atualizando o modelo a cada 40 amostras\n",
        "model.fit(X_train, train_labels, epochs=40, batch_size=40)"
      ],
      "metadata": {
        "id": "71sR-dzPV8bb"
      },
      "execution_count": null,
      "outputs": []
    },
    {
      "cell_type": "code",
      "source": [
        "#calculando a perda (loss) e a acurácia (accuracy) do modelo no conjunto de teste\n",
        "test_loss, test_acc = model.evaluate(X_test, test_labels)\n",
        "# Imprimindo o resultado dos testes\n",
        "print('Test Accuracy: ', test_acc, '\\nTest Loss: ', test_loss)"
      ],
      "metadata": {
        "id": "-k9iZh6KWxZi"
      },
      "execution_count": null,
      "outputs": []
    }
  ]
}